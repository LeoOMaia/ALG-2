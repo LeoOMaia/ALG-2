{
 "cells": [
  {
   "cell_type": "code",
   "execution_count": null,
   "metadata": {},
   "outputs": [],
   "source": [
    "import plt"
   ]
  },
  {
   "cell_type": "code",
   "execution_count": 1,
   "metadata": {},
   "outputs": [],
   "source": [
    "class point:\n",
    "    def __init__(self,coordx,coordy):\n",
    "        self.x = coordx\n",
    "        self.y = coordy\n",
    "\n",
    "class group:\n",
    "    points_group = []\n",
    "    def __init__(self):\n",
    "        self.points_group = []\n",
    "    \n",
    "    def add_point(self,point):\n",
    "        self.points_group.append(point)"
   ]
  },
  {
   "cell_type": "code",
   "execution_count": 2,
   "metadata": {},
   "outputs": [
    {
     "name": "stdout",
     "output_type": "stream",
     "text": [
      "1.14,-0.114,-1.0\n",
      "\n"
     ]
    }
   ],
   "source": [
    "# lendo arquivo de entrada e criando lista de pontos\n",
    "# abrindo arquivo para leitura\n",
    "file = open(\"banana.dat\",\"r\")\n",
    "# lendo linha por linha\n",
    "lines = file.readlines()\n",
    "# filtrando linhas retirando tudo ate a linha @data\n",
    "lines = lines[lines.index(\"@data\\n\")+1:]\n",
    "# criando grupos\n",
    "group1 = group()\n",
    "group2 = group()\n",
    "# preenchendo grupos com pontos, sendo que grupo1 sao os pontos da classe 1.0 e grupo2 sao os pontos da classe -1.0\n",
    "for line in lines:\n",
    "    line = line.split(\",\")\n",
    "    if float(line[2]) == 1.0:\n",
    "        group1.add_point(point(float(line[0]),float(line[1])))\n",
    "    else:\n",
    "        group2.add_point(point(float(line[0]),float(line[1])))\n",
    "\n",
    "# plotando pontos\n",
    "# criando figura\n",
    "fig = plt.figure(figsize=(10,10))\n",
    "# criando subplot\n",
    "ax = fig.add_subplot(111)\n",
    "# plotando pontos do grupo 1\n",
    "for point in group1.points_group:\n",
    "    ax.scatter(point.x,point.y,color='b')\n",
    "# plotando pontos do grupo 2\n",
    "for point in group2.points_group:\n",
    "    ax.scatter(point.x,point.y,color='r')\n",
    "# mostrando figura\n",
    "plt.show()\n"
   ]
  }
 ],
 "metadata": {
  "kernelspec": {
   "display_name": "Python 3",
   "language": "python",
   "name": "python3"
  },
  "language_info": {
   "codemirror_mode": {
    "name": "ipython",
    "version": 3
   },
   "file_extension": ".py",
   "mimetype": "text/x-python",
   "name": "python",
   "nbconvert_exporter": "python",
   "pygments_lexer": "ipython3",
   "version": "3.10.12"
  }
 },
 "nbformat": 4,
 "nbformat_minor": 2
}
